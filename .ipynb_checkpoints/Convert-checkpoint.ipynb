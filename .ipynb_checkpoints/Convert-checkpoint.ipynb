{
 "cells": [
  {
   "cell_type": "code",
   "execution_count": 25,
   "metadata": {
    "collapsed": true
   },
   "outputs": [],
   "source": [
    "import pandas as pd\n",
    "import distance"
   ]
  },
  {
   "cell_type": "code",
   "execution_count": 34,
   "metadata": {
    "collapsed": true
   },
   "outputs": [],
   "source": [
    "def extract_adj_list(aa):\n",
    "    \n",
    "    df = pd.DataFrame.from_csv('/Users/katya/Lab/CRG/Research/tRNA_2/copies_free_db/' + aa + '/stems.txt', sep='\\t')\n",
    "    df['Sequence'] = df.Stem_1 + df.Stem_2 + df.Stem_3 + df.Stem_4\n",
    "    df.drop(['Stem_1','Stem_2','Stem_3','Stem_4','Variable_stem'], axis=1, inplace=True)\n",
    "    aa_list = list(set(df.Sequence))\n",
    "    aa_adj_list = []\n",
    "\n",
    "    for ind1 in range(len(aa_list)):\n",
    "        temp = []\n",
    "        for ind2 in range(len(aa_list)):\n",
    "            if ind1 != ind2 and distance.hamming(aa_list[ind1], aa_list[ind2]) == 1:\n",
    "                temp.append(ind2)\n",
    "        aa_adj_list.append(temp)\n",
    "    \n",
    "    aa_freq = []\n",
    "\n",
    "    for ind1 in range(len(aa_list)):\n",
    "        counter = 0\n",
    "        for ind2 in range(len(df)):\n",
    "            if df.Sequence[ind2] == aa_list[ind1]:\n",
    "                counter +=1\n",
    "        aa_freq.append(counter)\n",
    "    \n",
    "    return aa_list, aa_adj_list, aa_freq"
   ]
  },
  {
   "cell_type": "code",
   "execution_count": null,
   "metadata": {
    "collapsed": true
   },
   "outputs": [],
   "source": [
    "trp_sq_list, trp_adj_list, trp_freq = extract_adj_list('trp')\n",
    "ala_sq_list, ala_adj_list, ala_freq = extract_adj_list('ala')"
   ]
  },
  {
   "cell_type": "code",
   "execution_count": 15,
   "metadata": {
    "collapsed": false
   },
   "outputs": [],
   "source": []
  },
  {
   "cell_type": "code",
   "execution_count": null,
   "metadata": {
    "collapsed": true
   },
   "outputs": [],
   "source": []
  }
 ],
 "metadata": {
  "kernelspec": {
   "display_name": "Python 2",
   "language": "python",
   "name": "python2"
  },
  "language_info": {
   "codemirror_mode": {
    "name": "ipython",
    "version": 2
   },
   "file_extension": ".py",
   "mimetype": "text/x-python",
   "name": "python",
   "nbconvert_exporter": "python",
   "pygments_lexer": "ipython2",
   "version": "2.7.11"
  }
 },
 "nbformat": 4,
 "nbformat_minor": 0
}
