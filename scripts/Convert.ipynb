{
 "cells": [
  {
   "cell_type": "code",
   "execution_count": 5,
   "metadata": {
    "collapsed": true
   },
   "outputs": [],
   "source": [
    "import pandas as pd\n",
    "import distance\n",
    "import os"
   ]
  },
  {
   "cell_type": "code",
   "execution_count": 11,
   "metadata": {
    "collapsed": true
   },
   "outputs": [],
   "source": [
    "def extract_adj_list(aa):\n",
    "    \n",
    "    df = pd.DataFrame.from_csv('../copies_free_db/' + aa + '/stems.txt', sep='\\t')\n",
    "    df['Sequence'] = df.Stem_1 + df.Stem_2 + df.Stem_3 + df.Stem_4\n",
    "    df.drop(['Stem_1','Stem_2','Stem_3','Stem_4','Variable_stem'], axis=1, inplace=True)\n",
    "    aa_list = list(set(df.Sequence))\n",
    "    aa_adj_list = []\n",
    "\n",
    "    for ind1 in range(len(aa_list)):\n",
    "        temp = []\n",
    "        for ind2 in range(len(aa_list)):\n",
    "            if ind1 != ind2 and distance.hamming(aa_list[ind1], aa_list[ind2]) == 1:\n",
    "                temp.append(ind2)\n",
    "        aa_adj_list.append(temp)\n",
    "    \n",
    "    aa_freq = []\n",
    "\n",
    "    for ind1 in range(len(aa_list)):\n",
    "        counter = 0\n",
    "        for ind2 in range(len(df)):\n",
    "            if df.Sequence[ind2] == aa_list[ind1]:\n",
    "                counter +=1\n",
    "        aa_freq.append(counter)\n",
    "    \n",
    "    result = pd.DataFrame(columns = ['Adjacency','Frequency'], index = aa_list)\n",
    "    result['Adjacency'] = aa_adj_list\n",
    "    result['Frequency'] = aa_freq\n",
    "    \n",
    "    return result"
   ]
  },
  {
   "cell_type": "code",
   "execution_count": null,
   "metadata": {
    "collapsed": false
   },
   "outputs": [
    {
     "name": "stdout",
     "output_type": "stream",
     "text": [
      "ile\n",
      "gly\n"
     ]
    }
   ],
   "source": [
    "for aa in os.listdir('../copies_free_db/'):\n",
    "    if '.' not in aa:\n",
    "        print aa\n",
    "        db = extract_adj_list(aa)\n",
    "        db.to_csv('../data/'+aa+'.txt',sep='\\t')"
   ]
  },
  {
   "cell_type": "code",
   "execution_count": null,
   "metadata": {
    "collapsed": true
   },
   "outputs": [],
   "source": []
  }
 ],
 "metadata": {
  "kernelspec": {
   "display_name": "Python [conda env:python2]",
   "language": "python",
   "name": "conda-env-python2-py"
  },
  "language_info": {
   "codemirror_mode": {
    "name": "ipython",
    "version": 2
   },
   "file_extension": ".py",
   "mimetype": "text/x-python",
   "name": "python",
   "nbconvert_exporter": "python",
   "pygments_lexer": "ipython2",
   "version": "2.7.13"
  }
 },
 "nbformat": 4,
 "nbformat_minor": 0
}
