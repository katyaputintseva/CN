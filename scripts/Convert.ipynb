{
 "cells": [
  {
   "cell_type": "code",
   "execution_count": 2,
   "metadata": {
    "collapsed": true
   },
   "outputs": [],
   "source": [
    "import pandas as pd\n",
    "import distance\n",
    "import os"
   ]
  },
  {
   "cell_type": "code",
   "execution_count": 3,
   "metadata": {
    "collapsed": true
   },
   "outputs": [],
   "source": [
    "def extract_adj_list(aa, d=1): # d - hamming distance we are interested in. For standard graphs d=1.\n",
    "    \n",
    "    df = pd.DataFrame.from_csv('../copies_free_db/' + aa + '/stems.txt', sep='\\t')\n",
    "    df['Sequence'] = df.Stem_1 + df.Stem_2 + df.Stem_3 + df.Stem_4\n",
    "    df.drop(['Stem_1','Stem_2','Stem_3','Stem_4','Variable_stem'], axis=1, inplace=True)\n",
    "    aa_list = list(set(df.Sequence))\n",
    "    aa_adj_list = []\n",
    "\n",
    "    for ind1 in range(len(aa_list)):\n",
    "        temp = []\n",
    "        for ind2 in range(len(aa_list)):\n",
    "            if ind1 != ind2 and distance.hamming(aa_list[ind1], aa_list[ind2]) <= d and ind2 not in temp:\n",
    "                temp.append(ind2)\n",
    "        aa_adj_list.append(temp)\n",
    "    \n",
    "    aa_freq = []\n",
    "\n",
    "    for ind1 in range(len(aa_list)):\n",
    "        counter = 0\n",
    "        for ind2 in range(len(df)):\n",
    "            if df.Sequence[ind2] == aa_list[ind1]:\n",
    "                counter +=1\n",
    "        aa_freq.append(counter)\n",
    "    \n",
    "    result = pd.DataFrame(columns = ['Adjacency','Frequency'], index = aa_list)\n",
    "    result['Adjacency'] = aa_adj_list\n",
    "    result['Frequency'] = aa_freq\n",
    "    \n",
    "    return result"
   ]
  },
  {
   "cell_type": "code",
   "execution_count": 7,
   "metadata": {
    "collapsed": false
   },
   "outputs": [
    {
     "name": "stdout",
     "output_type": "stream",
     "text": [
      "ile\n",
      "gly\n",
      "ala\n",
      "met\n",
      "phe\n",
      "gln\n",
      "his\n",
      "cys\n",
      "tyr\n",
      "lys\n",
      "glu\n",
      "trp\n",
      "thr\n",
      "leu\n",
      "ser\n",
      "arg\n",
      "sel\n",
      "val\n",
      "pro\n",
      "asn\n",
      "asp\n"
     ]
    }
   ],
   "source": [
    "for aa in os.listdir('../copies_free_db/'):\n",
    "    if '.' not in aa and 'ReadMe' not in aa:\n",
    "        print aa\n",
    "        # 1-edit distance database\n",
    "        db = extract_adj_list(aa, 1)\n",
    "        db.to_csv('../data/1/'+aa+'.txt',sep='\\t')\n",
    "        # <= 2-edit distance database\n",
    "        db = extract_adj_list(aa, 2)\n",
    "        db.to_csv('../data/2/'+aa+'.txt',sep='\\t')\n",
    "        # <= 3-edit distance database\n",
    "        db = extract_adj_list(aa, 3)\n",
    "        db.to_csv('../data/3/'+aa+'.txt',sep='\\t')"
   ]
  }
 ],
 "metadata": {
  "anaconda-cloud": {},
  "kernelspec": {
   "display_name": "Python [conda env:python2]",
   "language": "python",
   "name": "conda-env-python2-py"
  },
  "language_info": {
   "codemirror_mode": {
    "name": "ipython",
    "version": 2
   },
   "file_extension": ".py",
   "mimetype": "text/x-python",
   "name": "python",
   "nbconvert_exporter": "python",
   "pygments_lexer": "ipython2",
   "version": "2.7.13"
  }
 },
 "nbformat": 4,
 "nbformat_minor": 0
}
