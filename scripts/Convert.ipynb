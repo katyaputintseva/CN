{
 "cells": [
  {
   "cell_type": "code",
   "execution_count": 2,
   "metadata": {
    "collapsed": true
   },
   "outputs": [],
   "source": [
    "import pandas as pd\n",
    "import distance\n",
    "import os"
   ]
  },
  {
   "cell_type": "markdown",
   "metadata": {},
   "source": [
    "### 1. Generating data for each of the tRNA types"
   ]
  },
  {
   "cell_type": "code",
   "execution_count": 50,
   "metadata": {
    "collapsed": true
   },
   "outputs": [],
   "source": [
    "def extract_adj_list(aa, d=1): # d - hamming distance we are interested in. For standard graphs d=1.\n",
    "    \n",
    "    df = pd.DataFrame.from_csv('../copies_free_db/' + aa + '/stems.txt', sep='\\t', index_col=None)\n",
    "    df['Sequence'] = df.Stem_1 + df.Stem_2 + df.Stem_3 + df.Stem_4\n",
    "    df = df.drop(['Stem_1','Stem_2','Stem_3','Stem_4', 'Variable_stem'],axis=1)\n",
    "    df.columns = ['Species','Sequence']\n",
    "    df = df.groupby(['Sequence'])['Species'].apply(lambda x: ', '.join(x)).reset_index()\n",
    "    #grouping by sequence, but recording all the corresponding species\n",
    "    \n",
    "    aa_list = list(df.Sequence)\n",
    "    sp_list = list(df.Species)\n",
    "    \n",
    "    aa_adj_list = []\n",
    "\n",
    "    for ind1 in range(len(aa_list)):\n",
    "        temp = []\n",
    "        for ind2 in range(len(aa_list)):\n",
    "            if ind1 != ind2 and distance.hamming(aa_list[ind1], aa_list[ind2]) <= d and ind2 not in temp:\n",
    "                temp.append(ind2)\n",
    "        aa_adj_list.append(temp)\n",
    "    \n",
    "    aa_freq = []\n",
    "\n",
    "    for ind1 in range(len(aa_list)):\n",
    "        counter = 0\n",
    "        for ind2 in range(len(df)):\n",
    "            if df.Sequence[ind2] == aa_list[ind1]:\n",
    "                counter +=1\n",
    "        aa_freq.append(counter)\n",
    "    \n",
    "    result = pd.DataFrame(columns = ['Adjacency','Frequency'], index = sp_list)\n",
    "    result['Adjacency'] = aa_adj_list\n",
    "    result['Frequency'] = aa_freq\n",
    "    \n",
    "    return result"
   ]
  },
  {
   "cell_type": "code",
   "execution_count": 51,
   "metadata": {
    "collapsed": false
   },
   "outputs": [
    {
     "name": "stdout",
     "output_type": "stream",
     "text": [
      "ile\n",
      "gly\n",
      "ala\n",
      "met\n",
      "phe\n",
      "gln\n",
      "his\n",
      "cys\n",
      "tyr\n",
      "lys\n",
      "glu\n",
      "trp\n",
      "thr\n",
      "leu\n",
      "ser\n",
      "arg\n",
      "sel\n",
      "val\n",
      "pro\n",
      "asn\n",
      "asp\n"
     ]
    }
   ],
   "source": [
    "for i,aa in enumerate(os.listdir('../copies_free_db/')):\n",
    "    if '.' not in aa and 'ReadMe' not in aa:\n",
    "        print i, '\\t', aa\n",
    "        # 1-edit distance database\n",
    "        db = extract_adj_list(aa, 1)\n",
    "        db.to_csv('../data/1/'+aa+'.txt',sep='\\t')\n",
    "        # <= 2-edit distance database\n",
    "        db = extract_adj_list(aa, 2)\n",
    "        db.to_csv('../data/2/'+aa+'.txt',sep='\\t')\n",
    "        # <= 3-edit distance database\n",
    "        db = extract_adj_list(aa, 3)\n",
    "        db.to_csv('../data/3/'+aa+'.txt',sep='\\t')"
   ]
  },
  {
   "cell_type": "markdown",
   "metadata": {},
   "source": [
    "### 2. Generating Meta Graph"
   ]
  },
  {
   "cell_type": "code",
   "execution_count": 76,
   "metadata": {
    "collapsed": false,
    "scrolled": true
   },
   "outputs": [],
   "source": [
    "aas = ['ala','asp','val','pro','ser','glu','leu','thr','arg','gln','ile','asn','his','lys','cys','phe','tyr','met','trp']\n",
    "\n",
    "aa = 'gly'\n",
    "df = pd.DataFrame.from_csv('../copies_free_db/gly/stems.txt', sep='\\t', index_col=None)\n",
    "df['Sequence'] = df.Stem_1 + df.Stem_2 + df.Stem_3 + df.Stem_4\n",
    "df = df.drop(['Stem_1','Stem_2','Stem_3','Stem_4', 'Variable_stem'],axis=1)\n",
    "df.columns = ['Species','Sequence']\n",
    "df.Species = df.Species.apply(lambda x: x+'_'+aa)\n",
    "df = df.groupby(['Sequence'])['Species'].apply(lambda x: (', ').join(x)).reset_index()\n",
    "    \n",
    "for aa in aas: \n",
    "    tempDF = pd.DataFrame.from_csv('../copies_free_db/' + aa + '/stems.txt', sep='\\t', index_col=None)\n",
    "    \n",
    "    tempDF['Sequence'] = tempDF.Stem_1 + tempDF.Stem_2 + tempDF.Stem_3 + tempDF.Stem_4\n",
    "    tempDF = tempDF.drop(['Stem_1','Stem_2','Stem_3','Stem_4', 'Variable_stem'],axis=1)\n",
    "    tempDF.columns = ['Species','Sequence']\n",
    "    tempDF.Species = tempDF.Species.apply(lambda x: x+'_'+aa)\n",
    "    tempDF = tempDF.groupby(['Sequence'])['Species'].apply(lambda x: (', ').join(x)).reset_index()\n",
    "    \n",
    "    df = df.append(tempDF)\n",
    "\n",
    "#grouping by sequence, but recording all the corresponding species\n",
    "df = df.groupby(['Sequence'])['Species'].apply(lambda x: (', ').join(x)).reset_index()\n",
    "\n",
    "aa_list = list(df.Sequence)\n",
    "sp_list = list(df.Species)"
   ]
  },
  {
   "cell_type": "code",
   "execution_count": null,
   "metadata": {
    "collapsed": false
   },
   "outputs": [],
   "source": [
    "aa_adj_list = []\n",
    "\n",
    "for ind1 in range(len(df)):\n",
    "    temp = []\n",
    "    for ind2 in range(len(df)):\n",
    "        if ind1 != ind2 and distance.hamming(df.Sequence[ind1], df.Sequence[ind2]) <= 1 and ind2 not in temp:\n",
    "            temp.append(ind2)\n",
    "    aa_adj_list.append(temp)\n",
    "\n",
    "aa_freq = []\n",
    "\n",
    "for ind1 in range(len(df)):\n",
    "    counter = 0\n",
    "    for ind2 in range(len(df)):\n",
    "        if df.Sequence[ind2] == df.Sequence[ind1]:\n",
    "            counter +=1\n",
    "    aa_freq.append(counter)\n",
    "\n",
    "result = pd.DataFrame(columns = ['Adjacency','Frequency'], index = sp_list)\n",
    "result['Adjacency'] = aa_adj_list\n",
    "result['Frequency'] = aa_freq"
   ]
  },
  {
   "cell_type": "code",
   "execution_count": null,
   "metadata": {
    "collapsed": true
   },
   "outputs": [],
   "source": [
    "result.to_csv('../data/1/metaGraph.txt',sep='\\t')"
   ]
  },
  {
   "cell_type": "markdown",
   "metadata": {},
   "source": [
    "### 3. Generating JSON for D3 visualization"
   ]
  },
  {
   "cell_type": "code",
   "execution_count": null,
   "metadata": {
    "collapsed": true
   },
   "outputs": [],
   "source": []
  },
  {
   "cell_type": "code",
   "execution_count": null,
   "metadata": {
    "collapsed": true
   },
   "outputs": [],
   "source": []
  }
 ],
 "metadata": {
  "anaconda-cloud": {},
  "kernelspec": {
   "display_name": "Python [conda env:python2]",
   "language": "python",
   "name": "conda-env-python2-py"
  },
  "language_info": {
   "codemirror_mode": {
    "name": "ipython",
    "version": 2
   },
   "file_extension": ".py",
   "mimetype": "text/x-python",
   "name": "python",
   "nbconvert_exporter": "python",
   "pygments_lexer": "ipython2",
   "version": "2.7.13"
  }
 },
 "nbformat": 4,
 "nbformat_minor": 0
}
