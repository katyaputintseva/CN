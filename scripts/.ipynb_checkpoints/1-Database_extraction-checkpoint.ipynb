{
 "cells": [
  {
   "cell_type": "code",
   "execution_count": 2,
   "metadata": {
    "collapsed": true
   },
   "outputs": [],
   "source": [
    "import pandas as pd\n",
    "import distance\n",
    "import os"
   ]
  },
  {
   "cell_type": "markdown",
   "metadata": {},
   "source": [
    "### 1. Generating data for each of the tRNA types"
   ]
  },
  {
   "cell_type": "markdown",
   "metadata": {},
   "source": [
    "Here we build adjacency matrices for specified amino acids (aa) and distances (d) using multiple sequence alignments and structure predictions."
   ]
  },
  {
   "cell_type": "code",
   "execution_count": 50,
   "metadata": {
    "collapsed": true
   },
   "outputs": [],
   "source": [
    "def extract_adj_list(aa, d=1): # d - hamming distance we are interested in. For standard graphs d=1.\n",
    "    \n",
    "    df = pd.DataFrame.from_csv('../copies_free_db/' + aa + '/stems.txt', sep='\\t', index_col=None)\n",
    "    df['Sequence'] = df.Stem_1 + df.Stem_2 + df.Stem_3 + df.Stem_4\n",
    "    df = df.drop(['Stem_1','Stem_2','Stem_3','Stem_4', 'Variable_stem'],axis=1)\n",
    "    df.columns = ['Species','Sequence']\n",
    "    df = df.groupby(['Sequence'])['Species'].apply(lambda x: ', '.join(x)).reset_index()\n",
    "    #grouping by sequence, but recording all the corresponding species\n",
    "    \n",
    "    aa_list = list(df.Sequence)\n",
    "    sp_list = list(df.Species)\n",
    "    \n",
    "    aa_adj_list = []\n",
    "\n",
    "    for ind1 in range(len(aa_list)):\n",
    "        temp = []\n",
    "        for ind2 in range(len(aa_list)):\n",
    "            if ind1 != ind2 and distance.hamming(aa_list[ind1], aa_list[ind2]) <= d and ind2 not in temp:\n",
    "                temp.append(ind2)\n",
    "        aa_adj_list.append(temp)\n",
    "    \n",
    "    aa_freq = []\n",
    "\n",
    "    for ind1 in range(len(aa_list)):\n",
    "        counter = 0\n",
    "        for ind2 in range(len(df)):\n",
    "            if df.Sequence[ind2] == aa_list[ind1]:\n",
    "                counter +=1\n",
    "        aa_freq.append(counter)\n",
    "    \n",
    "    result = pd.DataFrame(columns = ['Adjacency','Frequency'], index = sp_list)\n",
    "    result['Adjacency'] = aa_adj_list\n",
    "    result['Frequency'] = aa_freq\n",
    "    \n",
    "    return result"
   ]
  },
  {
   "cell_type": "code",
   "execution_count": 51,
   "metadata": {
    "collapsed": false
   },
   "outputs": [
    {
     "name": "stdout",
     "output_type": "stream",
     "text": [
      "ile\n",
      "gly\n",
      "ala\n",
      "met\n",
      "phe\n",
      "gln\n",
      "his\n",
      "cys\n",
      "tyr\n",
      "lys\n",
      "glu\n",
      "trp\n",
      "thr\n",
      "leu\n",
      "ser\n",
      "arg\n",
      "sel\n",
      "val\n",
      "pro\n",
      "asn\n",
      "asp\n"
     ]
    }
   ],
   "source": [
    "for i,aa in enumerate(os.listdir('../copies_free_db/')):\n",
    "    if '.' not in aa and 'ReadMe' not in aa:\n",
    "        print i, '\\t', aa\n",
    "        # 1-edit distance database\n",
    "        db = extract_adj_list(aa, 1)\n",
    "        db.to_csv('../data/1/'+aa+'.txt',sep='\\t')\n",
    "        # <= 2-edit distance database\n",
    "        db = extract_adj_list(aa, 2)\n",
    "        db.to_csv('../data/2/'+aa+'.txt',sep='\\t')\n",
    "        # <= 3-edit distance database\n",
    "        db = extract_adj_list(aa, 3)\n",
    "        db.to_csv('../data/3/'+aa+'.txt',sep='\\t')"
   ]
  },
  {
   "cell_type": "markdown",
   "metadata": {},
   "source": [
    "### 2. Generating Meta Graph"
   ]
  },
  {
   "cell_type": "markdown",
   "metadata": {},
   "source": [
    "Building up one Meta Graph, containing sequences of all types of tRNAs. Very heavy calculations, take a lot of time."
   ]
  },
  {
   "cell_type": "code",
   "execution_count": 76,
   "metadata": {
    "collapsed": false,
    "scrolled": true
   },
   "outputs": [],
   "source": [
    "aas = ['ala','asp','val','pro','ser','glu','leu','thr','arg','gln','ile','asn','his','lys','cys','phe','tyr','met','trp']\n",
    "\n",
    "aa = 'gly'\n",
    "df = pd.DataFrame.from_csv('../copies_free_db/gly/stems.txt', sep='\\t', index_col=None)\n",
    "df['Sequence'] = df.Stem_1 + df.Stem_2 + df.Stem_3 + df.Stem_4\n",
    "df = df.drop(['Stem_1','Stem_2','Stem_3','Stem_4', 'Variable_stem'],axis=1)\n",
    "df.columns = ['Species','Sequence']\n",
    "df.Species = df.Species.apply(lambda x: x+'_'+aa)\n",
    "df = df.groupby(['Sequence'])['Species'].apply(lambda x: (', ').join(x)).reset_index()\n",
    "    \n",
    "for aa in aas: \n",
    "    tempDF = pd.DataFrame.from_csv('../copies_free_db/' + aa + '/stems.txt', sep='\\t', index_col=None)\n",
    "    \n",
    "    tempDF['Sequence'] = tempDF.Stem_1 + tempDF.Stem_2 + tempDF.Stem_3 + tempDF.Stem_4\n",
    "    tempDF = tempDF.drop(['Stem_1','Stem_2','Stem_3','Stem_4', 'Variable_stem'],axis=1)\n",
    "    tempDF.columns = ['Species','Sequence']\n",
    "    tempDF.Species = tempDF.Species.apply(lambda x: x+'_'+aa)\n",
    "    tempDF = tempDF.groupby(['Sequence'])['Species'].apply(lambda x: (', ').join(x)).reset_index()\n",
    "    \n",
    "    df = df.append(tempDF)\n",
    "\n",
    "#grouping by sequence, but recording all the corresponding species\n",
    "df = df.groupby(['Sequence'])['Species'].apply(lambda x: (', ').join(x)).reset_index()\n",
    "\n",
    "aa_list = list(df.Sequence)\n",
    "sp_list = list(df.Species)"
   ]
  },
  {
   "cell_type": "code",
   "execution_count": null,
   "metadata": {
    "collapsed": false,
    "scrolled": true
   },
   "outputs": [
    {
     "name": "stdout",
     "output_type": "stream",
     "text": [
      "Calculating Hamming Distance..\n",
      "99\n",
      "199\n",
      "299\n",
      "399\n",
      "499\n",
      "599\n",
      "699\n",
      "799\n",
      "899\n",
      "999\n",
      "1099\n",
      "1199\n",
      "1299\n",
      "1399\n",
      "1499\n",
      "1599\n",
      "1699\n",
      "1799\n",
      "1899\n",
      "1999\n",
      "2099\n",
      "2199\n",
      "2299\n",
      "2399\n",
      "2499\n",
      "2599\n",
      "2699\n",
      "2799\n",
      "2899\n",
      "2999\n",
      "3099\n",
      "3199\n",
      "3299\n",
      "3399\n",
      "3499\n",
      "3599\n",
      "3699\n",
      "3799\n",
      "3899\n",
      "3999\n",
      "4099\n",
      "4199\n",
      "4299\n",
      "4399\n",
      "4499\n",
      "4599\n",
      "4699\n",
      "4799\n",
      "4899\n",
      "4999\n",
      "5099\n",
      "5199\n",
      "5299\n",
      "5399\n",
      "5499\n",
      "5599\n",
      "5699\n",
      "5799\n",
      "5899\n",
      "5999\n",
      "6099\n",
      "6199\n",
      "6299\n",
      "6399\n",
      "6499\n",
      "6599\n",
      "6699\n",
      "6799\n",
      "6899\n",
      "6999\n",
      "7099\n",
      "7199\n",
      "7299\n",
      "7399\n",
      "7499\n",
      "7599\n",
      "7699\n",
      "7799\n",
      "7899\n",
      "7999\n",
      "8099\n",
      "8199\n",
      "8299\n",
      "8399\n",
      "8499\n",
      "8599\n",
      "8699\n",
      "8799\n",
      "8899\n",
      "8999\n",
      "9099\n",
      "9199\n",
      "9299\n",
      "9399\n",
      "9499\n",
      "9599\n",
      "9699\n",
      "9799\n",
      "9899\n",
      "9999\n",
      "10099\n",
      "23999\n",
      "24099\n",
      "24199\n"
     ]
    }
   ],
   "source": [
    "aa_adj_list = []\n",
    "\n",
    "print 'Calculating Hamming Distance..'\n",
    "\n",
    "counter = 0\n",
    "\n",
    "for ind1 in range(len(df)):\n",
    "    \n",
    "    counter += 1\n",
    "    if counter % 100 == 0:\n",
    "        print ind1\n",
    "        \n",
    "    temp = []\n",
    "    for ind2 in range(len(df)):\n",
    "        if ind1 != ind2 and distance.hamming(df.Sequence[ind1], df.Sequence[ind2]) <= 1 and ind2 not in temp:\n",
    "            temp.append(ind2)\n",
    "    aa_adj_list.append(temp)"
   ]
  },
  {
   "cell_type": "code",
   "execution_count": null,
   "metadata": {
    "collapsed": true
   },
   "outputs": [],
   "source": [
    "print 'Calculating Frequency..'\n",
    "\n",
    "aa_freq = [len(x.split(', ')) for x in df.Species]\n",
    "\n",
    "result = pd.DataFrame(columns = ['Adjacency','Frequency'], index = sp_list)\n",
    "result['Adjacency'] = aa_adj_list\n",
    "result['Frequency'] = aa_freq"
   ]
  },
  {
   "cell_type": "code",
   "execution_count": null,
   "metadata": {
    "collapsed": true
   },
   "outputs": [],
   "source": [
    "result.to_csv('../data/1/metaGraph.txt',sep='\\t')"
   ]
  }
 ],
 "metadata": {
  "anaconda-cloud": {},
  "kernelspec": {
   "display_name": "Python [conda env:python2]",
   "language": "python",
   "name": "conda-env-python2-py"
  },
  "language_info": {
   "codemirror_mode": {
    "name": "ipython",
    "version": 2
   },
   "file_extension": ".py",
   "mimetype": "text/x-python",
   "name": "python",
   "nbconvert_exporter": "python",
   "pygments_lexer": "ipython2",
   "version": "2.7.13"
  }
 },
 "nbformat": 4,
 "nbformat_minor": 0
}
