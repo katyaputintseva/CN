{
 "cells": [
  {
   "cell_type": "code",
   "execution_count": 3,
   "metadata": {
    "collapsed": true
   },
   "outputs": [],
   "source": [
    "from __future__ import division\n",
    "import distance\n",
    "import os\n",
    "import ast\n",
    "import matplotlib.pyplot as plt \n",
    "import pandas as pd\n",
    "import numpy as np\n",
    "import distance\n",
    "import networkx as nx\n",
    "\n",
    "%matplotlib inline"
   ]
  },
  {
   "cell_type": "markdown",
   "metadata": {},
   "source": [
    "### 1. Extracting sequences"
   ]
  },
  {
   "cell_type": "code",
   "execution_count": 6,
   "metadata": {
    "collapsed": false
   },
   "outputs": [],
   "source": [
    "trnas = {}\n",
    "\n",
    "for aa in os.listdir('../data/1/'):\n",
    "    trnas[aa[:-4]] = pd.DataFrame.from_csv('../data/1/' + aa, sep = '\\t')"
   ]
  },
  {
   "cell_type": "code",
   "execution_count": 7,
   "metadata": {
    "collapsed": true
   },
   "outputs": [],
   "source": [
    "#Hypothetical order of appearance in the universe\n",
    "aas = ['gly','ala','asp','val','pro','ser','glu','leu','thr','arg','gln','ile','asn','his','lys','cys','phe','tyr','met','trp']"
   ]
  },
  {
   "cell_type": "markdown",
   "metadata": {},
   "source": [
    "### 2. Plotting graphs"
   ]
  },
  {
   "cell_type": "code",
   "execution_count": 12,
   "metadata": {
    "collapsed": true
   },
   "outputs": [],
   "source": [
    "def build_graph(aa):\n",
    "    \n",
    "    print aa\n",
    "    \n",
    "    H = nx.Graph()\n",
    "    H.size = {}\n",
    "    H.color = {}\n",
    "    H.width = {}\n",
    "    \n",
    "    print ('Building the graph')\n",
    "    for i in trnas[aa].index:\n",
    "\n",
    "        H.add_node(i)\n",
    "        H.size[i]=trnas[aa]['Frequency'].ix[i]*50\n",
    "        H.color[i]='red'\n",
    "\n",
    "    for i in trnas[aa].index:\n",
    "        for j in ast.literal_eval(trnas[aa]['Adjacency'].ix[i]):\n",
    "            H.add_edge(trnas[aa].ix[i].name, trnas[aa].ix[j].name, {'color':'gray','thickness':2})\n",
    "\n",
    "    color=[attribs['color'] for (v_from,v_to,attribs) in H.edges(data=True)]\n",
    "    thickness=[attribs['thickness'] for (v_from,v_to,attribs) in H.edges(data=True)]\n",
    "    \n",
    "    print ('Plotting the graph')\n",
    "    plt.figure(figsize=[50,50])\n",
    "    plt.title(aa.upper(), fontsize=50)\n",
    "    nx.draw_networkx(H,with_labels=False,node_color=[H.color[v] for v in H],\\\n",
    "                     node_size=[H.size[v] for v in H], alpha=0.5,\\\n",
    "                     width=thickness,edge_color=color)\n",
    "    plt.savefig('../graphs/' + aa + '.png')"
   ]
  },
  {
   "cell_type": "code",
   "execution_count": null,
   "metadata": {
    "collapsed": false
   },
   "outputs": [
    {
     "name": "stdout",
     "output_type": "stream",
     "text": [
      "gly\n",
      "Building the graph\n",
      "Plotting the graph\n"
     ]
    }
   ],
   "source": [
    "for aa in aas:\n",
    "    build_graph(aa)"
   ]
  }
 ],
 "metadata": {
  "anaconda-cloud": {},
  "kernelspec": {
   "display_name": "Python [conda env:python2]",
   "language": "python",
   "name": "conda-env-python2-py"
  },
  "language_info": {
   "codemirror_mode": {
    "name": "ipython",
    "version": 2
   },
   "file_extension": ".py",
   "mimetype": "text/x-python",
   "name": "python",
   "nbconvert_exporter": "python",
   "pygments_lexer": "ipython2",
   "version": "2.7.13"
  }
 },
 "nbformat": 4,
 "nbformat_minor": 0
}
