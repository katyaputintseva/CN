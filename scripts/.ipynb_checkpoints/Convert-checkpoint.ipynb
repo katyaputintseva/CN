{
 "cells": [
  {
   "cell_type": "code",
   "execution_count": 25,
   "metadata": {
    "collapsed": true
   },
   "outputs": [],
   "source": [
    "import pandas as pd\n",
    "import distance"
   ]
  },
  {
   "cell_type": "code",
   "execution_count": 37,
   "metadata": {
    "collapsed": true
   },
   "outputs": [],
   "source": [
    "def extract_adj_list(aa):\n",
    "    \n",
    "    df = pd.DataFrame.from_csv('/Users/katya/Lab/CRG/Research/tRNA_2/copies_free_db/' + aa + '/stems.txt', sep='\\t')\n",
    "    df['Sequence'] = df.Stem_1 + df.Stem_2 + df.Stem_3 + df.Stem_4\n",
    "    df.drop(['Stem_1','Stem_2','Stem_3','Stem_4','Variable_stem'], axis=1, inplace=True)\n",
    "    aa_list = list(set(df.Sequence))\n",
    "    aa_adj_list = []\n",
    "\n",
    "    for ind1 in range(len(aa_list)):\n",
    "        temp = []\n",
    "        for ind2 in range(len(aa_list)):\n",
    "            if ind1 != ind2 and distance.hamming(aa_list[ind1], aa_list[ind2]) == 1:\n",
    "                temp.append(ind2)\n",
    "        aa_adj_list.append(temp)\n",
    "    \n",
    "    aa_freq = []\n",
    "\n",
    "    for ind1 in range(len(aa_list)):\n",
    "        counter = 0\n",
    "        for ind2 in range(len(df)):\n",
    "            if df.Sequence[ind2] == aa_list[ind1]:\n",
    "                counter +=1\n",
    "        aa_freq.append(counter)\n",
    "    \n",
    "    result = pd.DataFrame(columns = ['Adjacency','Frequency'], index = aa_list)\n",
    "    result['Adjacency'] = aa_adj_list\n",
    "    result['Frequency'] = aa_freq\n",
    "    \n",
    "    return result"
   ]
  },
  {
   "cell_type": "code",
   "execution_count": 36,
   "metadata": {
    "collapsed": true
   },
   "outputs": [],
   "source": [
    "trp = extract_adj_list('trp')\n",
    "ala = extract_adj_list('ala')"
   ]
  },
  {
   "cell_type": "code",
   "execution_count": 43,
   "metadata": {
    "collapsed": false
   },
   "outputs": [],
   "source": [
    "trp.to_csv('/Users/katya/MSc/II/CN/CN/data/trp.txt',sep='\\t')\n",
    "ala.to_csv('/Users/katya/MSc/II/CN/CN/data/ala.txt',sep='\\t')"
   ]
  },
  {
   "cell_type": "code",
   "execution_count": null,
   "metadata": {
    "collapsed": true
   },
   "outputs": [],
   "source": []
  }
 ],
 "metadata": {
  "kernelspec": {
   "display_name": "Python [conda env:python2]",
   "language": "python",
   "name": "conda-env-python2-py"
  },
  "language_info": {
   "codemirror_mode": {
    "name": "ipython",
    "version": 2
   },
   "file_extension": ".py",
   "mimetype": "text/x-python",
   "name": "python",
   "nbconvert_exporter": "python",
   "pygments_lexer": "ipython2",
   "version": "2.7.13"
  }
 },
 "nbformat": 4,
 "nbformat_minor": 0
}
